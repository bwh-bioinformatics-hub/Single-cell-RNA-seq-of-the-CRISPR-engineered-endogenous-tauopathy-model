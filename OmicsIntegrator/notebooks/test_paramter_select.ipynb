{
 "cells": [
  {
   "cell_type": "code",
   "execution_count": 1,
   "metadata": {},
   "outputs": [],
   "source": [
    "import pickle, numpy as np, pandas as pd, networkx as nx, warnings\n",
    "warnings.filterwarnings('ignore')\n",
    "\n",
    "import matplotlib, matplotlib.pyplot as plt\n",
    "import sys\n",
    "matplotlib.rcParams['font.sans-serif'] = \"Arial\"\n",
    "matplotlib.rcParams['font.family'] = \"Arial\"\n",
    "\n",
    "import seaborn as sns, OmicsIntegrator as oi"
   ]
  },
  {
   "cell_type": "code",
   "execution_count": 2,
   "metadata": {},
   "outputs": [],
   "source": [
    "    infile= \"/mnt/data0/projects/biohub/hassan2022/output/omicsintegrator/output/Central_Body/Central_Body_randomization_results.pkl\"\n",
    "    parameter_set=\"W_6.00_B_5.00_G_6.00\"\n",
    "    outname=\"{}.augmented_forest.graphml\"\n",
    "    outdir=\"/mnt/data0/projects/biohub/hassan2022/output/omicsintegrator/output\""
   ]
  },
  {
   "cell_type": "code",
   "execution_count": 3,
   "metadata": {},
   "outputs": [],
   "source": [
    "with open(infile, \"rb\") as f: \n",
    "    results=pickle.load(f)"
   ]
  },
  {
   "cell_type": "code",
   "execution_count": 4,
   "metadata": {},
   "outputs": [
    {
     "data": {
      "text/plain": [
       "PosixPath('/mnt/data0/projects/biohub/hassan2022/output/omicsintegrator/output/W_6.00_B_5.00_G_6.00.augmented_forest.graphml')"
      ]
     },
     "execution_count": 4,
     "metadata": {},
     "output_type": "execute_result"
    }
   ],
   "source": [
    "oi.output_networkx_graph_as_graphml_for_cytoscape(\n",
    "    results[parameter_set][\"augmented_forest\"], output_dir=outdir, filename=outname.format(\n",
    "        parameter_set))"
   ]
  },
  {
   "cell_type": "code",
   "execution_count": null,
   "metadata": {},
   "outputs": [],
   "source": []
  }
 ],
 "metadata": {
  "kernelspec": {
   "display_name": "OmicsIntegrator2",
   "language": "python",
   "name": "python3"
  },
  "language_info": {
   "codemirror_mode": {
    "name": "ipython",
    "version": 3
   },
   "file_extension": ".py",
   "mimetype": "text/x-python",
   "name": "python",
   "nbconvert_exporter": "python",
   "pygments_lexer": "ipython3",
   "version": "3.6.15"
  },
  "orig_nbformat": 4
 },
 "nbformat": 4,
 "nbformat_minor": 2
}
